{
  "nbformat": 4,
  "nbformat_minor": 0,
  "metadata": {
    "colab": {
      "name": "StateCollegeSnow.ipynb",
      "provenance": []
    },
    "kernelspec": {
      "name": "python3",
      "display_name": "Python 3"
    }
  },
  "cells": [
    {
      "cell_type": "markdown",
      "metadata": {
        "id": "BLKQh1Xa2yAq",
        "colab_type": "text"
      },
      "source": [
        "#**Weather in the State College Area**\n"
      ]
    },
    {
      "cell_type": "markdown",
      "metadata": {
        "id": "h7O9R8XG3b7M",
        "colab_type": "text"
      },
      "source": [
        "State College, Pennsylvania is in the northeast region of the United States. Tucked into the mountains of central Pennsylvania, it has interesting weather patterns throughout the entire year. The data presented here shows different sets of varying weather factors throughout the last few years. Through these data points, residents of State College can now expect what kind of weather they will recieve. "
      ]
    },
    {
      "cell_type": "markdown",
      "metadata": {
        "id": "nE9GdK6-SanZ",
        "colab_type": "text"
      },
      "source": [
        "#State College Weather Graph "
      ]
    },
    {
      "cell_type": "markdown",
      "metadata": {
        "id": "WarlbUwFVcsZ",
        "colab_type": "text"
      },
      "source": [
        "![alt text](https://raw.githubusercontent.com/johngirouard/SRA268/master/State%20College%20Weather.jpg)"
      ]
    },
    {
      "cell_type": "markdown",
      "metadata": {
        "id": "IOM8fAur3SWV",
        "colab_type": "text"
      },
      "source": [
        "#Study Conclusion\n"
      ]
    },
    {
      "cell_type": "markdown",
      "metadata": {
        "id": "ntsd9kOf6874",
        "colab_type": "text"
      },
      "source": [
        "As the data above shows, State College recieves a massive flux of different weather patterns throughout the year. Snow hits especially hard in the winter months, as well as the min temperature dropping very low. Also, the max temperatures go very high in the summer months, as precipitation stays rather constant throughout the year. The local government of State College should prepare for all the specific things which these weather conditions can bring."
      ]
    }
  ]
}