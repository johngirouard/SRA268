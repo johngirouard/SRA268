{
  "nbformat": 4,
  "nbformat_minor": 0,
  "metadata": {
    "colab": {
      "name": "March Madness",
      "provenance": []
    },
    "kernelspec": {
      "name": "python3",
      "display_name": "Python 3"
    }
  },
  "cells": [
    {
      "cell_type": "markdown",
      "metadata": {
        "id": "YA7u4n9I3j_i",
        "colab_type": "text"
      },
      "source": [
        "#**March Madness Graphs**"
      ]
    },
    {
      "cell_type": "markdown",
      "metadata": {
        "id": "MnAyYdpg3vaO",
        "colab_type": "text"
      },
      "source": [
        "John Girouard"
      ]
    },
    {
      "cell_type": "markdown",
      "metadata": {
        "id": "AaTY-9MU3_Bb",
        "colab_type": "text"
      },
      "source": [
        "**Deviation**"
      ]
    },
    {
      "cell_type": "markdown",
      "metadata": {
        "id": "X1Na9oES4D7d",
        "colab_type": "text"
      },
      "source": [
        "![alt text](https://raw.githubusercontent.com/johngirouard/SRA268/master/Deviation%20Graph.PNG)"
      ]
    },
    {
      "cell_type": "markdown",
      "metadata": {
        "id": "2zd8wYei4EwG",
        "colab_type": "text"
      },
      "source": [
        "This deviation graph, which is able to emphasize variation using a fixed point. In this instance, the graph is specifically a diverging bar. A diverging bar graph is a chart which can handle values which are both positive and negative. In this specific instance, it shows how the average amount of points scored deviates around the average. For this graph, the average is set at zero. Through this graph, it can be shown clearly how much data diverged from the mean point. Also, the graph utilizes color to emphasize different diverging levels. The darker the bar, the further from the middle point, and vice versa for the lighter color bars."
      ]
    },
    {
      "cell_type": "markdown",
      "metadata": {
        "id": "NRrTpac54KNq",
        "colab_type": "text"
      },
      "source": [
        "**Correlation**"
      ]
    },
    {
      "cell_type": "markdown",
      "metadata": {
        "id": "8soMjsau4QMD",
        "colab_type": "text"
      },
      "source": [
        "![alt text](https://raw.githubusercontent.com/johngirouard/SRA268/master/Correlation%20graph.PNG)"
      ]
    },
    {
      "cell_type": "markdown",
      "metadata": {
        "id": "HYupJVlh4Qms",
        "colab_type": "text"
      },
      "source": [
        "The above graph shows correlation, specifically a scatter plot. A scatter plot can be used to show the relationship between different sets of quantitative value. The graph here shows the winning teams points and the losing teams points from different years of March Madness. A clear correlation can be shown here how the winning team always scores more points than the losing team. Also, conclusions can be drawn on how total point values differed throughout the years. I decided to have the colors for the winning and losing teams be different in order for the reader to be able to definitely decipher between the two."
      ]
    },
    {
      "cell_type": "code",
      "metadata": {
        "id": "eurlhHZK6vzK",
        "colab_type": "code",
        "colab": {}
      },
      "source": [
        ""
      ],
      "execution_count": 0,
      "outputs": []
    },
    {
      "cell_type": "markdown",
      "metadata": {
        "id": "83WZX1gK4Tog",
        "colab_type": "text"
      },
      "source": [
        "**Ranking**"
      ]
    },
    {
      "cell_type": "markdown",
      "metadata": {
        "id": "bK0FJ6YU4ZD-",
        "colab_type": "text"
      },
      "source": [
        "![alt text](https://raw.githubusercontent.com/johngirouard/SRA268/master/Ranking%20Graph.PNG)"
      ]
    },
    {
      "cell_type": "markdown",
      "metadata": {
        "id": "N9WVITkl4ZT5",
        "colab_type": "text"
      },
      "source": [
        "The graph here is a simple ranking graph, which is designed to highlight the positioning of different points of data to themselves. This graph is a very simple ordered bar chart. In a very easy-to-read fashion it displays the amount of points scored ranked over the years with their respective season year on the y-axis. I used color in this graph as well to highlight the different points values. The darker the bar, the more points, while the lighter the graph the less points. Also, the data is ordered to see a positive linear progression through the entirety of the graph. "
      ]
    },
    {
      "cell_type": "markdown",
      "metadata": {
        "id": "x40N--MB4do2",
        "colab_type": "text"
      },
      "source": [
        "**Distribution**"
      ]
    },
    {
      "cell_type": "markdown",
      "metadata": {
        "id": "-zzy1kCi4jQI",
        "colab_type": "text"
      },
      "source": [
        "![alt text](https://raw.githubusercontent.com/johngirouard/SRA268/master/Distribution%20graph.PNG)"
      ]
    },
    {
      "cell_type": "markdown",
      "metadata": {
        "id": "9hiuXcwv4jqv",
        "colab_type": "text"
      },
      "source": [
        "Above is a distribution type graph. These graphs are designed to show multiple points in a data set and highlight how often these different sets occur. Here the graph is a histogram, which is a very standard way to show distribution statistically. The shape of the data also gives us an idea of how it is distributed, whether it is symmetric, or to the left or right.The data here shows the amount of points scored by the winning team and how often that score came up. As shown, the most common point values for the winning teams were around 75-80 points."
      ]
    },
    {
      "cell_type": "markdown",
      "metadata": {
        "id": "Q27Xp2t64mlm",
        "colab_type": "text"
      },
      "source": [
        "**Change over time**"
      ]
    },
    {
      "cell_type": "markdown",
      "metadata": {
        "id": "6EcJcVWM4sPb",
        "colab_type": "text"
      },
      "source": [
        "![alt text](https://raw.githubusercontent.com/johngirouard/SRA268/master/Change%20Over%20Time%20Graph.PNG)"
      ]
    },
    {
      "cell_type": "markdown",
      "metadata": {
        "id": "TJPkU9Ir4sdW",
        "colab_type": "text"
      },
      "source": [
        "The next graph is a change over time graph, which chief purpose is to show the trend of the data over time. Above is a simple line graph. It showcases the amount of points on the winning team with the season year at the bottom on the x-axis. This is the standard way to show how a set of data can change over time. Some retinal variables I used had to do with the color changing throughout the line. At higher points, the data turns a dark blue then shifts to white at middle points across the line. Towards the bottom it becomes red as it hits the lower end of point values. "
      ]
    },
    {
      "cell_type": "markdown",
      "metadata": {
        "id": "8d2o37Be4vqa",
        "colab_type": "text"
      },
      "source": [
        "**Magnitude**"
      ]
    },
    {
      "cell_type": "markdown",
      "metadata": {
        "id": "TiJ36g3s40yk",
        "colab_type": "text"
      },
      "source": [
        "![alt text](https://raw.githubusercontent.com/johngirouard/SRA268/master/Magnitude%20Graph.PNG)"
      ]
    },
    {
      "cell_type": "markdown",
      "metadata": {
        "id": "Fp2Y_Ndq4039",
        "colab_type": "text"
      },
      "source": [
        "The following is a magnitude graph. It is designed to display simple size comparisons of the data. The above graph compares the March Madness years and the winning points values. The comparative bar chart shows directly the comparison of points for each year. These kinds of graphs are perfect when the intention of the graph is purely just designed to show how much of something there is, such as basketball points. For this graph, it is important to have the quantitative variable on the y-axis to make sure that a complete ranking can be determined. The main idea behind it is to just show the physical amount of something. "
      ]
    },
    {
      "cell_type": "markdown",
      "metadata": {
        "id": "at6ufM9645Ik",
        "colab_type": "text"
      },
      "source": [
        "**Point to whole**"
      ]
    },
    {
      "cell_type": "markdown",
      "metadata": {
        "id": "gmwkSP2o48d2",
        "colab_type": "text"
      },
      "source": [
        "![alt text](https://raw.githubusercontent.com/johngirouard/SRA268/master/Part-to-whole%20graph.PNG)"
      ]
    },
    {
      "cell_type": "markdown",
      "metadata": {
        "id": "qZ0BnNwC482H",
        "colab_type": "text"
      },
      "source": [
        "This graph is a point-to-whole graph. The purpose behind these is to show individual entities in the data as they all relate to each other. The one showcased here specifically is a pie chart. This is a very widely used way to show a point-to-whole data set. In the example shown, it displays the variety of the amount of points scored for each day of the week throughout the tournament. As the data shows, Thursday and Friday had the biggest shares of point totals. Different colors for each segment is crucial in order for the reader to differentiate between all of the different categories and draw their inferences from the data accurately."
      ]
    }
  ]
}