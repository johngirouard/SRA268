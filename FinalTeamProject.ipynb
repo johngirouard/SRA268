{
  "nbformat": 4,
  "nbformat_minor": 0,
  "metadata": {
    "colab": {
      "name": "FinalTeamProject.ipynb",
      "provenance": [],
      "collapsed_sections": []
    },
    "kernelspec": {
      "name": "python3",
      "display_name": "Python 3"
    }
  },
  "cells": [
    {
      "cell_type": "markdown",
      "metadata": {
        "id": "Ac6Oyk12NCVy",
        "colab_type": "text"
      },
      "source": [
        "**Injuries in the NFL**\n",
        "\n",
        "Contributors:\n",
        "John Girouard\n",
        "AJ Weyant\n",
        "Reid Schindler\n",
        "John Isenberg "
      ]
    },
    {
      "cell_type": "markdown",
      "metadata": {
        "id": "E3lrfsJtYBSI",
        "colab_type": "text"
      },
      "source": [
        "**Background:**\n",
        "\n",
        "Football is one of the most violent sports out there, and with the popularity of the sport, it is prone to sustain injuries on athletes. At the highest level of football, the NFL, players are constantly rushing around at full speed, and their last thought before they try to make a play is “can I do this without hurting the other player?” The answer is most likely no, and injuries are bound to happen one way or another. Our group is interested in comparing the injury rates of players in the NFL. We want to find out if injury rates have declined throughout the years, and if the NFL is learning from this data to find ways to reduce injury. We searched for a source that would give us data on our topic of interest, and found charts that tell us about the two most popular injuries in the NFL, an ACL tear, and a concussion. The NFL has spent years trying to solve the concussion issue including better helmets, different rules and regulations, and fines. The ACL tear is an injury that can happen to any athlete regardless of sport, the reason this injury occurs so frequently in the NFL is due to the fast pace shifts and movements of players on the football field. The data we found shows when these injuries happened, whether it was pre-season or regular season, and how many happened from 2012 to 2019. We want to see how this data has changed over the years based on a few different factors. "
      ]
    },
    {
      "cell_type": "markdown",
      "metadata": {
        "id": "tF_T8lnsYKXT",
        "colab_type": "text"
      },
      "source": [
        "**Goal**\n",
        "\n",
        "The goal of our project is to show how often injuries (specifically concussions and ACL tears) occur throughout the NFL season. We will show how often they occur in the preseason, regular season, practices, and games. Our graphs will provide a spread of data ranging from 2012 to 2019. "
      ]
    },
    {
      "cell_type": "markdown",
      "metadata": {
        "id": "7mj9ZSIDYX9E",
        "colab_type": "text"
      },
      "source": [
        "**Assumptions**\n",
        "\n",
        "1.The total concussions and ACL injuries between pre-season and regular season will be the same. This means the risk of concussion and ACL injuries is equally likely during a season game and during practice (Alternative #1)\n",
        "\n",
        "2.Pre-season practices held higher total concussions and ACL injuries than regular season games. This means that the risk of concussion and ACL injuries is greater during practices than games (Alternative #2)\n",
        "\n",
        "3.Regular season games held higher total concussions and ACL injuries than pre-season practices. This mesans that the risk of concussions and ACL injuries is greater during regular season games than pre-season practices (Alternative #3) \n",
        "\n",
        "4.Technology Improvement -- helmet type and safety could explain possible outliers if there are any. Enforcement and analysis of helmet type being an attributer to more or less concussion likelihood was published at the end of 2018. (Alternative for influencers of concussions #1)\n",
        "\n",
        "5.2017-2018 Helmeting Rule put into place -- \"Players penalized for lowering head before contact.\" This could be a possibe confounding variable to overall lower concussions after 2017. The helmeting rule might account for smaller concussion frequencies for years but we think it won't impact variance between pre-season and regualr season concussions.(Alternative for influencers of the concussions #2) \n",
        "\n",
        "6.Rest Time -- the amount of rest that players are giiving thier bodies in between games during the pre-season is longer. They have more frequent games at a higher speed which leads to more injuries.(Alternative for ACL injuries #1)\n",
        "\n",
        "7.Number of Games -- during the pre-season each team only plays four games. During the regular season each team plays sixteen games which less than a week in between some of the games. (Alternative #4)\n",
        "\n",
        "8.Improper training methods --  ACL injuries occur when the knee is turned and the foot does not. Training the body to move laterally as well as forward and backwards can help prevent the injury. (Alternative for ACL injuries #2)\n",
        "\n",
        "9.Warm up methods -- Studies have shown that an effective warm up before any strenuous activity will decrease the chance of an ACL injury or tear.(Alternative for ACL injuries #3) \n",
        "\n",
        "10.It is scientifically proven from looking at the the NFL combine, players are getting bigger, faster and stronger. With size increasing and speed also increasing the tackles in an NFL game will become harder over time. This will increase the rate of injury across the board. (Alternative #5)"
      ]
    },
    {
      "cell_type": "markdown",
      "metadata": {
        "id": "J3CoFtfvSgXM",
        "colab_type": "text"
      },
      "source": [
        "Data Sources\n",
        "\n",
        "![Data Tables](https://www.playsmartplaysafe.com/newsroom/reports/injury-data/)\n",
        "We chose these data sources due to the simplicity of the tables and how well organized they are.  The tables show many categories of data but is also easy to read. With the seven year span (2012-2019) this gives us a good amount of data to be able to identify if there were any specific patterns in either type of injury. We also decided to go with these two data tables because this is a relevant issue in sports today. To join the data tables together we created a microsoft excel sheet that calculated the percentage for each of our categories. When looking at this data, we saw a clear correlation in the percentage of injuries which happened in the game for both the regular season and the preseason. In the preseason, the amount of injuries which happened in the game and practice was about even. However during the regular season, the vast majority of cases occured during the games. The information was very clearly laid out and was easy to understand. Through using the qualitative data in the tables which the source provided, we were able to generate the tableau graphs below. The data source had different tables for both ACL, and concussion injuries comparing the regular season and the preseason. It is because of this, we made different tableau graphs for the different injuries. The data source comes from a reliable organization which reports on NFL injuries to help make not only the NFL but the game of Football safer for everyone to play.\n"
      ]
    },
    {
      "cell_type": "markdown",
      "metadata": {
        "id": "iUR3FjD8YltH",
        "colab_type": "text"
      },
      "source": [
        "\n",
        "*Source Links:* [Injury Data](https://www.playsmartplaysafe.com/newsroom/reports/injury-data/)\n",
        "\n"
      ]
    },
    {
      "cell_type": "code",
      "metadata": {
        "id": "jyhzTO6jWiMl",
        "colab_type": "code",
        "outputId": "82cc41a7-3b00-46a4-9822-6416c2c2be7c",
        "colab": {
          "base_uri": "https://localhost:8080/",
          "height": 1000
        }
      },
      "source": [
        "import IPython\n",
        "IPython.display.HTML(\"<div class='tableauPlaceholder' id='viz1588007707193' style='position: relative'><noscript><a href='#'><img alt=' ' src='https:&#47;&#47;public.tableau.com&#47;static&#47;images&#47;Fi&#47;FinalprojectSRA268&#47;Sheet1&#47;1_rss.png' style='border: none' /></a></noscript><object class='tableauViz'  style='display:none;'><param name='host_url' value='https%3A%2F%2Fpublic.tableau.com%2F' /> <param name='embed_code_version' value='3' /> <param name='site_root' value='' /><param name='name' value='FinalprojectSRA268&#47;Sheet1' /><param name='tabs' value='no' /><param name='toolbar' value='yes' /><param name='static_image' value='https:&#47;&#47;public.tableau.com&#47;static&#47;images&#47;Fi&#47;FinalprojectSRA268&#47;Sheet1&#47;1.png' /> <param name='animate_transition' value='yes' /><param name='display_static_image' value='yes' /><param name='display_spinner' value='yes' /><param name='display_overlay' value='yes' /><param name='display_count' value='yes' /></object></div>                <script type='text/javascript'>                    var divElement = document.getElementById('viz1588007707193');                    var vizElement = divElement.getElementsByTagName('object')[0];                    vizElement.style.width='100%';vizElement.style.height=(divElement.offsetWidth*0.75)+'px';                    var scriptElement = document.createElement('script');                    scriptElement.src = 'https://public.tableau.com/javascripts/api/viz_v1.js';                    vizElement.parentNode.insertBefore(scriptElement, vizElement);                </script>\")"
      ],
      "execution_count": 0,
      "outputs": [
        {
          "output_type": "execute_result",
          "data": {
            "text/html": [
              "<div class='tableauPlaceholder' id='viz1588007707193' style='position: relative'><noscript><a href='#'><img alt=' ' src='https:&#47;&#47;public.tableau.com&#47;static&#47;images&#47;Fi&#47;FinalprojectSRA268&#47;Sheet1&#47;1_rss.png' style='border: none' /></a></noscript><object class='tableauViz'  style='display:none;'><param name='host_url' value='https%3A%2F%2Fpublic.tableau.com%2F' /> <param name='embed_code_version' value='3' /> <param name='site_root' value='' /><param name='name' value='FinalprojectSRA268&#47;Sheet1' /><param name='tabs' value='no' /><param name='toolbar' value='yes' /><param name='static_image' value='https:&#47;&#47;public.tableau.com&#47;static&#47;images&#47;Fi&#47;FinalprojectSRA268&#47;Sheet1&#47;1.png' /> <param name='animate_transition' value='yes' /><param name='display_static_image' value='yes' /><param name='display_spinner' value='yes' /><param name='display_overlay' value='yes' /><param name='display_count' value='yes' /></object></div>                <script type='text/javascript'>                    var divElement = document.getElementById('viz1588007707193');                    var vizElement = divElement.getElementsByTagName('object')[0];                    vizElement.style.width='100%';vizElement.style.height=(divElement.offsetWidth*0.75)+'px';                    var scriptElement = document.createElement('script');                    scriptElement.src = 'https://public.tableau.com/javascripts/api/viz_v1.js';                    vizElement.parentNode.insertBefore(scriptElement, vizElement);                </script>"
            ],
            "text/plain": [
              "<IPython.core.display.HTML object>"
            ]
          },
          "metadata": {
            "tags": []
          },
          "execution_count": 1
        }
      ]
    },
    {
      "cell_type": "code",
      "metadata": {
        "id": "ACXYCp9tO268",
        "colab_type": "code",
        "outputId": "d02d475c-773e-4dfc-979a-00f2cb3c9942",
        "colab": {
          "base_uri": "https://localhost:8080/",
          "height": 1000
        }
      },
      "source": [
        "import IPython\n",
        "IPython.display.HTML(\"<div class='tableauPlaceholder' id='viz1587942881363' style='position: relative'><noscript><a href='#'><img alt=' ' src='https:&#47;&#47;public.tableau.com&#47;static&#47;images&#47;NF&#47;NFLconcussionprevelance&#47;Sheet1&#47;1_rss.png' style='border: none' /></a></noscript><object class='tableauViz'  style='display:none;'><param name='host_url' value='https%3A%2F%2Fpublic.tableau.com%2F' /> <param name='embed_code_version' value='3' /> <param name='site_root' value='' /><param name='name' value='NFLconcussionprevelance&#47;Sheet1' /><param name='tabs' value='no' /><param name='toolbar' value='yes' /><param name='static_image' value='https:&#47;&#47;public.tableau.com&#47;static&#47;images&#47;NF&#47;NFLconcussionprevelance&#47;Sheet1&#47;1.png' /> <param name='animate_transition' value='yes' /><param name='display_static_image' value='yes' /><param name='display_spinner' value='yes' /><param name='display_overlay' value='yes' /><param name='display_count' value='yes' /></object></div>                <script type='text/javascript'>                    var divElement = document.getElementById('viz1587942881363');                    var vizElement = divElement.getElementsByTagName('object')[0];                    vizElement.style.width='100%';vizElement.style.height=(divElement.offsetWidth*0.75)+'px';                    var scriptElement = document.createElement('script');                    scriptElement.src = 'https://public.tableau.com/javascripts/api/viz_v1.js';                    vizElement.parentNode.insertBefore(scriptElement, vizElement);                </script>\")"
      ],
      "execution_count": 0,
      "outputs": [
        {
          "output_type": "execute_result",
          "data": {
            "text/html": [
              "<div class='tableauPlaceholder' id='viz1587942881363' style='position: relative'><noscript><a href='#'><img alt=' ' src='https:&#47;&#47;public.tableau.com&#47;static&#47;images&#47;NF&#47;NFLconcussionprevelance&#47;Sheet1&#47;1_rss.png' style='border: none' /></a></noscript><object class='tableauViz'  style='display:none;'><param name='host_url' value='https%3A%2F%2Fpublic.tableau.com%2F' /> <param name='embed_code_version' value='3' /> <param name='site_root' value='' /><param name='name' value='NFLconcussionprevelance&#47;Sheet1' /><param name='tabs' value='no' /><param name='toolbar' value='yes' /><param name='static_image' value='https:&#47;&#47;public.tableau.com&#47;static&#47;images&#47;NF&#47;NFLconcussionprevelance&#47;Sheet1&#47;1.png' /> <param name='animate_transition' value='yes' /><param name='display_static_image' value='yes' /><param name='display_spinner' value='yes' /><param name='display_overlay' value='yes' /><param name='display_count' value='yes' /></object></div>                <script type='text/javascript'>                    var divElement = document.getElementById('viz1587942881363');                    var vizElement = divElement.getElementsByTagName('object')[0];                    vizElement.style.width='100%';vizElement.style.height=(divElement.offsetWidth*0.75)+'px';                    var scriptElement = document.createElement('script');                    scriptElement.src = 'https://public.tableau.com/javascripts/api/viz_v1.js';                    vizElement.parentNode.insertBefore(scriptElement, vizElement);                </script>"
            ],
            "text/plain": [
              "<IPython.core.display.HTML object>"
            ]
          },
          "metadata": {
            "tags": []
          },
          "execution_count": 2
        }
      ]
    },
    {
      "cell_type": "markdown",
      "metadata": {
        "id": "ctXxD6reY0-z",
        "colab_type": "text"
      },
      "source": [
        "**Conclusion**\n",
        "\n",
        "We decided to create visuals of our data using tableau. Our two graphs represent the percentage of concussions occurring in games instead of practice, and the percentage of ACL tears occurring in games instead of practice. Over the course of 7 years, you can see that there is never a steady decrease, and that the graphs fluctuate all over the place. One other evident factor in our graphs is that the rate during the regular season is always higher. This is expected for multiple reasons. The regular season is much longer than the pre season, and teams usually don't go all out during the pre season. This usually means playing back ups, testing out offensive and defensive strategies, and overall just getting a feel for the upcoming season. It is natural for players to not go all out during this time, so seeing that there are way less injuries during pre season makes sense. For example in the concussions graph for the regular season, the lowest the concussion rate gets is in 2014. Two years later in 2016, the rate jumped around to a 5% increase. In the ACL graph, there is a spike in the amount of tears for 2014. Two years later this rate drops to nearly the lowest it ever was in the time range. This shows that over time it's hard for the NFL to really try and prevent such injuries from occurring. The conclusion that we have come to regarding our assumptions is that concussion and ACL injuries are about 50% more likely during the regular season than the pre-season due to the rate of play and the frequency of the games. We know that other factors have played a key role in this conclusion, such as the technology improvement of helmets in the last few seasons and the implementation of new rules and regulations of how to hit or tackle.  Even with new rules and regulations put in place to help reduce the number of concussions, we have new players entering the NFL that are coming in weighing more, but also running faster than ever. This means that power output these players are putting out is higher than ever which could be a cause for more injuries. When we look at the percentage of ACL injuries graph, we can see a fairly steady rate during both pre and regular seasons. This shows that ACL injuries are a common injury that are very difficult to avoid in such a strenuous sport. Some techniques that can help decrease the rate at which these injuries happen are things such as proper warm up and training techniques in practice and before games. Most injuries happen when the knee rotates when the foot is planted in place and does not rotate with the knee. Some doctors and sports specialists have said that training the body to move laterally and not just forward and backwards can help avoid these injuries. We can see that ACL and concussion injuries are more likely to happen during the regular season than the pre-season.  "
      ]
    }
  ]
}